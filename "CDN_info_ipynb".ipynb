{
  "nbformat": 4,
  "nbformat_minor": 0,
  "metadata": {
    "colab": {
      "provenance": [],
      "include_colab_link": true
    },
    "kernelspec": {
      "name": "python3",
      "display_name": "Python 3"
    },
    "language_info": {
      "name": "python"
    }
  },
  "cells": [
    {
      "cell_type": "markdown",
      "metadata": {
        "id": "view-in-github",
        "colab_type": "text"
      },
      "source": [
        "<a href=\"https://colab.research.google.com/github/Albinam1/Parsing-website-on-Python-with-BeautifulSoup/blob/main/%22CDN_info_ipynb%22.ipynb\" target=\"_parent\"><img src=\"https://colab.research.google.com/assets/colab-badge.svg\" alt=\"Open In Colab\"/></a>"
      ]
    },
    {
      "cell_type": "code",
      "execution_count": 2,
      "metadata": {
        "id": "p19tmj9uN9-2"
      },
      "outputs": [],
      "source": [
        "import pandas as pd\n",
        "import numpy as np\n",
        "import requests\n",
        "from bs4 import BeautifulSoup\n",
        "import pandas as pd"
      ]
    },
    {
      "cell_type": "code",
      "source": [
        "#us_path = input(\"Введите путь до файла в формате xlxs: \")\n",
        "data = pd.read_excel(us_path)\n",
        "data = pd.read_excel('/content/Копия bulls_data (2).xlsx')\n",
        "# Выбор значений из столбца \"num\", где \"country\" = \"CAN\" и \"por\" = \"HO\"\n",
        "por = input(\"ВВедите породу:\")\n",
        "#por = \"HO\"\n",
        "country = input(\"ВВедите страну:\")\n",
        "filtered_df = data.loc[(data['COUNTRY3'] == country) & (data['PORODA'] == por)]['NUMBER']\n",
        "selected_values_list = filtered_df.tolist()\n",
        "bull_numbers= []\n",
        "for i in selected_values_list:\n",
        "  bull_numbers.append(i)\n",
        "bull_numbers = bull_numbers[:10]\n",
        "\n",
        "record = []\n",
        "for number in bull_numbers:\n",
        "  url = f\"https://www.cdn.ca/query/detail_ge.php?breed={por}&country={country}&sex=M&regnum={number}\"\n",
        "  response = requests.get(url)\n",
        "  soup = BeautifulSoup(response.text, \"html.parser\")\n",
        "  title = soup.find('title')\n",
        "  if title.string == 'Canadian Dairy Network - Genetic Evaluation Summary':\n",
        "    for rows in soup.find_all(\"table\", class_= \"animalOverline\"):\n",
        "      td_tags = soup.find_all('td')\n",
        "      num = soup.find('td', class_='animalHeaderSubTitle').text\n",
        "      klichka = soup.find('td', class_='animalHeaderSubTitle')\n",
        "      klichka_ = klichka.find_next('td').text\n",
        "      tdElement = soup.find('td', {'style': 'width:100px; text-align: right;'})\n",
        "      DR= tdElement.text.strip()\n",
        "      pro = soup.find('td', {'style':\"text-align: center; text-transform: none;\"}).find_next('td').text\n",
        "      pa_lpi = soup.find('td', {'style':\"text-align: right; font-weight: bold; border-bottom: 1px solid #FFF;\"}).find_next('td').text\n",
        "      reability_pa_lpi = soup.find('td', {'style':\"text-align: right; font-weight: bold; border-bottom: 1px solid #FFF;\"}).find_next('td').find_next('td').text\n",
        "      production = soup.find('td', {'style':\"text-align: right; font-weight: bold; border-bottom: 1px solid #FFF;\"}).find_next('td').find_next('td').find_next('td').find_next('td').text\n",
        "      durability = soup.find('td', {'style':\"text-align: right; font-weight: bold; border-bottom: 1px solid #FFF;\"}).find_next('td').find_next('td').find_next('td').find_next('td').find_next('td').find_next('td').find_next('td').text\n",
        "      health_fert = soup.find('td', {'style':\"text-align: right; font-weight: bold; border-bottom: 1px solid #FFF;\"}).find_next('td').find_next('td').find_next('td').find_next('td').find_next('td').find_next('td').find_next('td').find_next('td').find_next('td').find_next('td').text\n",
        "      herds = soup.find('td', {'style':\"width: 110px;\"}).find_next('td').text\n",
        "      Daughters = soup.find('td', string = 'Daughters').find_next('td').text\n",
        "      Lactations = soup.find('td', string = 'Lactations').find_next('td').text\n",
        "      Reliability = soup.find('td', string = 'Reliability').find_next('td').text\n",
        "      Milk = soup.find('td', string = 'Milk').find_next('td').text\n",
        "      Fat = soup.find('td', string = 'Fat').find_next('td').text\n",
        "      Protein = soup.find('td', string = 'Protein').find_next('td').text\n",
        "      Milk_RK = soup.find('td', string = 'Milk').find_next('td').find_next('td').text\n",
        "      Fat_RK = soup.find('td', string = 'Fat').find_next('td').find_next('td').text\n",
        "      Protein_RK = soup.find('td', string = 'Protein').find_next('td').find_next('td').text\n",
        "      Milk_Dev = soup.find('td', string = 'Milk').find_next('td').find_next('td').find_next('td').text\n",
        "      Fat_Dev = soup.find('td', string = 'Fat').find_next('td').find_next('td').find_next('td').text\n",
        "      Protein_Dev = soup.find('td', string = 'Protein').find_next('td').find_next('td').find_next('td').text\n",
        "  else:\n",
        "     num = None\n",
        "     klichka_ = None\n",
        "     DR = None\n",
        "     pro = None\n",
        "     pa_lpi = None\n",
        "     reability_pa_lpi = None\n",
        "     production = None\n",
        "     durability = None\n",
        "     health_fert = None\n",
        "     herds = None\n",
        "     Daughters = None\n",
        "     Lactations = None\n",
        "     Reliability = None\n",
        "     Milk = None\n",
        "     Fat = None\n",
        "     Protein = None\n",
        "     Milk_RK = None\n",
        "     Fat_RK = None\n",
        "     Protein_RK = None\n",
        "     Milk_Dev = None\n",
        "     Fat_Dev  = None\n",
        "     Protein_Dev = None\n",
        "  record.append([number, num, klichka_, DR, pro, pa_lpi, reability_pa_lpi, production, durability, health_fert, herds, Daughters, Lactations, Reliability, Milk, Fat, Protein, Milk_RK, Fat_RK, Protein_RK, Milk_Dev, Fat_Dev, Protein_Dev])\n",
        "  columns = ['NUMBER', 'Bull Number', 'Klichka', 'DR', 'Pro$', 'LIFETIME PERFORMANCE INDEX', \"REABILITY LPI\", 'PRODUCTION', 'DURABILITY', 'HEALTH & FERTILITY', 'Herds', 'Daughters', 'Lactations', 'Reliability', 'Milk', 'Fat', 'Protein',  'Milk_RK', 'Fat_RK', 'Protein_RK', 'Milk_Dev', 'Fat_Dev', 'Protein_Dev']\n",
        "\n",
        "#df.to_excel('infoCDN_about_bulls.xlsx', index=False) #Раскомментировать, если нужно записать в форматe xlsx"
      ],
      "metadata": {
        "colab": {
          "base_uri": "https://localhost:8080/"
        },
        "id": "bw-M5vYYZq0n",
        "outputId": "f69a4f2f-97fc-411f-ab9a-e5fc052075d8"
      },
      "execution_count": 5,
      "outputs": [
        {
          "name": "stdout",
          "output_type": "stream",
          "text": [
            "ВВедите страну:RUS\n"
          ]
        }
      ]
    },
    {
      "cell_type": "markdown",
      "source": [
        "### США (USA)"
      ],
      "metadata": {
        "id": "OZHkffvNm60Q"
      }
    },
    {
      "cell_type": "code",
      "source": [
        "df_USA_1 = pd.DataFrame(record, columns = columns)\n",
        "df_USA_1.to_excel('infoCDN_about_bulls_USA_1.xlsx', index=False)"
      ],
      "metadata": {
        "id": "6DatFg8spcVP"
      },
      "execution_count": null,
      "outputs": []
    },
    {
      "cell_type": "code",
      "source": [
        "df_USA_2 = pd.DataFrame(record, columns = columns)\n",
        "df_USA_2.to_excel('infoCDN_about_bulls_USA_2.xlsx', index=False)"
      ],
      "metadata": {
        "id": "cy1n-xe9uK8f"
      },
      "execution_count": null,
      "outputs": []
    },
    {
      "cell_type": "code",
      "source": [
        "df_USA_3 = pd.DataFrame(record, columns = columns)\n",
        "df_USA_3.to_excel('infoCDN_about_bulls_USA_3.xlsx', index=False)"
      ],
      "metadata": {
        "id": "VVlOMNV0ysUN"
      },
      "execution_count": null,
      "outputs": []
    },
    {
      "cell_type": "code",
      "source": [
        "df_USA_4 = pd.DataFrame(record, columns = columns)\n",
        "df_USA_4.to_excel('infoCDN_about_bulls_USA_4.xlsx', index=False)"
      ],
      "metadata": {
        "id": "npBWH4wYzCBI"
      },
      "execution_count": null,
      "outputs": []
    },
    {
      "cell_type": "markdown",
      "source": [
        "### Нидерланды (NLD)"
      ],
      "metadata": {
        "id": "_inyHWCVnM-6"
      }
    },
    {
      "cell_type": "code",
      "source": [
        "df_NLD_1 = pd.DataFrame(record, columns = columns)\n",
        "df_NLD_1.to_excel('infoCDN_about_bulls_NLD_1.xlsx', index=False)"
      ],
      "metadata": {
        "id": "vMHdpZ88nhd2"
      },
      "execution_count": null,
      "outputs": []
    },
    {
      "cell_type": "code",
      "source": [
        "df_NLD_2 = pd.DataFrame(record, columns = columns)\n",
        "df_NLD_2.to_excel('infoCDN_about_bulls_NLD_2.xlsx', index=False)"
      ],
      "metadata": {
        "id": "YoQCWj-o54JC"
      },
      "execution_count": null,
      "outputs": []
    },
    {
      "cell_type": "markdown",
      "source": [
        "### Германия DEU"
      ],
      "metadata": {
        "id": "7UWyL9rIBN4_"
      }
    },
    {
      "cell_type": "code",
      "source": [
        "df_DEU_1 = pd.DataFrame(record, columns = columns)\n",
        "df_DEU_1.to_excel('infoCDN_about_bulls_DEU_1.xlsx', index=False)"
      ],
      "metadata": {
        "id": "UtTBMiFr-xOV"
      },
      "execution_count": null,
      "outputs": []
    },
    {
      "cell_type": "code",
      "source": [
        "df_DEU_2 = pd.DataFrame(record, columns = columns)\n",
        "df_DEU_2.to_excel('infoCDN_about_bulls_DEU_2.xlsx', index=False)"
      ],
      "metadata": {
        "id": "I4o7SHoEAo1W"
      },
      "execution_count": null,
      "outputs": []
    },
    {
      "cell_type": "code",
      "source": [
        "df_DEU_2"
      ],
      "metadata": {
        "id": "ZKr8k7jjQKgn",
        "outputId": "145848e1-e645-4cd9-c3c9-c85588fdb222",
        "colab": {
          "base_uri": "https://localhost:8080/",
          "height": 478
        }
      },
      "execution_count": null,
      "outputs": [
        {
          "output_type": "execute_result",
          "data": {
            "text/plain": [
              "          NUMBER Bull Number Klichka    DR  Pro$ LIFETIME PERFORMANCE INDEX  \\\n",
              "0      358149884        None    None  None  None                       None   \n",
              "1      358162479        None    None  None  None                       None   \n",
              "2      358162492        None    None  None  None                       None   \n",
              "3      358162567        None    None  None  None                       None   \n",
              "4      358174839        None    None  None  None                       None   \n",
              "...          ...         ...     ...   ...   ...                        ...   \n",
              "1253  9010450006        None    None  None  None                       None   \n",
              "1254  9010664098        None    None  None  None                       None   \n",
              "1255  9015014414        None    None  None  None                       None   \n",
              "1256  O349414970        None    None  None  None                       None   \n",
              "1257  O578891748        None    None  None  None                       None   \n",
              "\n",
              "     REABILITY LPI PRODUCTION DURABILITY HEALTH & FERTILITY  ... Reliability  \\\n",
              "0             None       None       None               None  ...        None   \n",
              "1             None       None       None               None  ...        None   \n",
              "2             None       None       None               None  ...        None   \n",
              "3             None       None       None               None  ...        None   \n",
              "4             None       None       None               None  ...        None   \n",
              "...            ...        ...        ...                ...  ...         ...   \n",
              "1253          None       None       None               None  ...        None   \n",
              "1254          None       None       None               None  ...        None   \n",
              "1255          None       None       None               None  ...        None   \n",
              "1256          None       None       None               None  ...        None   \n",
              "1257          None       None       None               None  ...        None   \n",
              "\n",
              "      Milk   Fat Protein Milk_RK Fat_RK Protein_RK Milk_Dev Fat_Dev  \\\n",
              "0     None  None    None    None   None       None     None    None   \n",
              "1     None  None    None    None   None       None     None    None   \n",
              "2     None  None    None    None   None       None     None    None   \n",
              "3     None  None    None    None   None       None     None    None   \n",
              "4     None  None    None    None   None       None     None    None   \n",
              "...    ...   ...     ...     ...    ...        ...      ...     ...   \n",
              "1253  None  None    None    None   None       None     None    None   \n",
              "1254  None  None    None    None   None       None     None    None   \n",
              "1255  None  None    None    None   None       None     None    None   \n",
              "1256  None  None    None    None   None       None     None    None   \n",
              "1257  None  None    None    None   None       None     None    None   \n",
              "\n",
              "     Protein_Dev  \n",
              "0           None  \n",
              "1           None  \n",
              "2           None  \n",
              "3           None  \n",
              "4           None  \n",
              "...          ...  \n",
              "1253        None  \n",
              "1254        None  \n",
              "1255        None  \n",
              "1256        None  \n",
              "1257        None  \n",
              "\n",
              "[1258 rows x 23 columns]"
            ],
            "text/html": [
              "\n",
              "  <div id=\"df-7b1046e8-2b3d-4e11-b23a-dcd27fab04c3\" class=\"colab-df-container\">\n",
              "    <div>\n",
              "<style scoped>\n",
              "    .dataframe tbody tr th:only-of-type {\n",
              "        vertical-align: middle;\n",
              "    }\n",
              "\n",
              "    .dataframe tbody tr th {\n",
              "        vertical-align: top;\n",
              "    }\n",
              "\n",
              "    .dataframe thead th {\n",
              "        text-align: right;\n",
              "    }\n",
              "</style>\n",
              "<table border=\"1\" class=\"dataframe\">\n",
              "  <thead>\n",
              "    <tr style=\"text-align: right;\">\n",
              "      <th></th>\n",
              "      <th>NUMBER</th>\n",
              "      <th>Bull Number</th>\n",
              "      <th>Klichka</th>\n",
              "      <th>DR</th>\n",
              "      <th>Pro$</th>\n",
              "      <th>LIFETIME PERFORMANCE INDEX</th>\n",
              "      <th>REABILITY LPI</th>\n",
              "      <th>PRODUCTION</th>\n",
              "      <th>DURABILITY</th>\n",
              "      <th>HEALTH &amp; FERTILITY</th>\n",
              "      <th>...</th>\n",
              "      <th>Reliability</th>\n",
              "      <th>Milk</th>\n",
              "      <th>Fat</th>\n",
              "      <th>Protein</th>\n",
              "      <th>Milk_RK</th>\n",
              "      <th>Fat_RK</th>\n",
              "      <th>Protein_RK</th>\n",
              "      <th>Milk_Dev</th>\n",
              "      <th>Fat_Dev</th>\n",
              "      <th>Protein_Dev</th>\n",
              "    </tr>\n",
              "  </thead>\n",
              "  <tbody>\n",
              "    <tr>\n",
              "      <th>0</th>\n",
              "      <td>358149884</td>\n",
              "      <td>None</td>\n",
              "      <td>None</td>\n",
              "      <td>None</td>\n",
              "      <td>None</td>\n",
              "      <td>None</td>\n",
              "      <td>None</td>\n",
              "      <td>None</td>\n",
              "      <td>None</td>\n",
              "      <td>None</td>\n",
              "      <td>...</td>\n",
              "      <td>None</td>\n",
              "      <td>None</td>\n",
              "      <td>None</td>\n",
              "      <td>None</td>\n",
              "      <td>None</td>\n",
              "      <td>None</td>\n",
              "      <td>None</td>\n",
              "      <td>None</td>\n",
              "      <td>None</td>\n",
              "      <td>None</td>\n",
              "    </tr>\n",
              "    <tr>\n",
              "      <th>1</th>\n",
              "      <td>358162479</td>\n",
              "      <td>None</td>\n",
              "      <td>None</td>\n",
              "      <td>None</td>\n",
              "      <td>None</td>\n",
              "      <td>None</td>\n",
              "      <td>None</td>\n",
              "      <td>None</td>\n",
              "      <td>None</td>\n",
              "      <td>None</td>\n",
              "      <td>...</td>\n",
              "      <td>None</td>\n",
              "      <td>None</td>\n",
              "      <td>None</td>\n",
              "      <td>None</td>\n",
              "      <td>None</td>\n",
              "      <td>None</td>\n",
              "      <td>None</td>\n",
              "      <td>None</td>\n",
              "      <td>None</td>\n",
              "      <td>None</td>\n",
              "    </tr>\n",
              "    <tr>\n",
              "      <th>2</th>\n",
              "      <td>358162492</td>\n",
              "      <td>None</td>\n",
              "      <td>None</td>\n",
              "      <td>None</td>\n",
              "      <td>None</td>\n",
              "      <td>None</td>\n",
              "      <td>None</td>\n",
              "      <td>None</td>\n",
              "      <td>None</td>\n",
              "      <td>None</td>\n",
              "      <td>...</td>\n",
              "      <td>None</td>\n",
              "      <td>None</td>\n",
              "      <td>None</td>\n",
              "      <td>None</td>\n",
              "      <td>None</td>\n",
              "      <td>None</td>\n",
              "      <td>None</td>\n",
              "      <td>None</td>\n",
              "      <td>None</td>\n",
              "      <td>None</td>\n",
              "    </tr>\n",
              "    <tr>\n",
              "      <th>3</th>\n",
              "      <td>358162567</td>\n",
              "      <td>None</td>\n",
              "      <td>None</td>\n",
              "      <td>None</td>\n",
              "      <td>None</td>\n",
              "      <td>None</td>\n",
              "      <td>None</td>\n",
              "      <td>None</td>\n",
              "      <td>None</td>\n",
              "      <td>None</td>\n",
              "      <td>...</td>\n",
              "      <td>None</td>\n",
              "      <td>None</td>\n",
              "      <td>None</td>\n",
              "      <td>None</td>\n",
              "      <td>None</td>\n",
              "      <td>None</td>\n",
              "      <td>None</td>\n",
              "      <td>None</td>\n",
              "      <td>None</td>\n",
              "      <td>None</td>\n",
              "    </tr>\n",
              "    <tr>\n",
              "      <th>4</th>\n",
              "      <td>358174839</td>\n",
              "      <td>None</td>\n",
              "      <td>None</td>\n",
              "      <td>None</td>\n",
              "      <td>None</td>\n",
              "      <td>None</td>\n",
              "      <td>None</td>\n",
              "      <td>None</td>\n",
              "      <td>None</td>\n",
              "      <td>None</td>\n",
              "      <td>...</td>\n",
              "      <td>None</td>\n",
              "      <td>None</td>\n",
              "      <td>None</td>\n",
              "      <td>None</td>\n",
              "      <td>None</td>\n",
              "      <td>None</td>\n",
              "      <td>None</td>\n",
              "      <td>None</td>\n",
              "      <td>None</td>\n",
              "      <td>None</td>\n",
              "    </tr>\n",
              "    <tr>\n",
              "      <th>...</th>\n",
              "      <td>...</td>\n",
              "      <td>...</td>\n",
              "      <td>...</td>\n",
              "      <td>...</td>\n",
              "      <td>...</td>\n",
              "      <td>...</td>\n",
              "      <td>...</td>\n",
              "      <td>...</td>\n",
              "      <td>...</td>\n",
              "      <td>...</td>\n",
              "      <td>...</td>\n",
              "      <td>...</td>\n",
              "      <td>...</td>\n",
              "      <td>...</td>\n",
              "      <td>...</td>\n",
              "      <td>...</td>\n",
              "      <td>...</td>\n",
              "      <td>...</td>\n",
              "      <td>...</td>\n",
              "      <td>...</td>\n",
              "      <td>...</td>\n",
              "    </tr>\n",
              "    <tr>\n",
              "      <th>1253</th>\n",
              "      <td>9010450006</td>\n",
              "      <td>None</td>\n",
              "      <td>None</td>\n",
              "      <td>None</td>\n",
              "      <td>None</td>\n",
              "      <td>None</td>\n",
              "      <td>None</td>\n",
              "      <td>None</td>\n",
              "      <td>None</td>\n",
              "      <td>None</td>\n",
              "      <td>...</td>\n",
              "      <td>None</td>\n",
              "      <td>None</td>\n",
              "      <td>None</td>\n",
              "      <td>None</td>\n",
              "      <td>None</td>\n",
              "      <td>None</td>\n",
              "      <td>None</td>\n",
              "      <td>None</td>\n",
              "      <td>None</td>\n",
              "      <td>None</td>\n",
              "    </tr>\n",
              "    <tr>\n",
              "      <th>1254</th>\n",
              "      <td>9010664098</td>\n",
              "      <td>None</td>\n",
              "      <td>None</td>\n",
              "      <td>None</td>\n",
              "      <td>None</td>\n",
              "      <td>None</td>\n",
              "      <td>None</td>\n",
              "      <td>None</td>\n",
              "      <td>None</td>\n",
              "      <td>None</td>\n",
              "      <td>...</td>\n",
              "      <td>None</td>\n",
              "      <td>None</td>\n",
              "      <td>None</td>\n",
              "      <td>None</td>\n",
              "      <td>None</td>\n",
              "      <td>None</td>\n",
              "      <td>None</td>\n",
              "      <td>None</td>\n",
              "      <td>None</td>\n",
              "      <td>None</td>\n",
              "    </tr>\n",
              "    <tr>\n",
              "      <th>1255</th>\n",
              "      <td>9015014414</td>\n",
              "      <td>None</td>\n",
              "      <td>None</td>\n",
              "      <td>None</td>\n",
              "      <td>None</td>\n",
              "      <td>None</td>\n",
              "      <td>None</td>\n",
              "      <td>None</td>\n",
              "      <td>None</td>\n",
              "      <td>None</td>\n",
              "      <td>...</td>\n",
              "      <td>None</td>\n",
              "      <td>None</td>\n",
              "      <td>None</td>\n",
              "      <td>None</td>\n",
              "      <td>None</td>\n",
              "      <td>None</td>\n",
              "      <td>None</td>\n",
              "      <td>None</td>\n",
              "      <td>None</td>\n",
              "      <td>None</td>\n",
              "    </tr>\n",
              "    <tr>\n",
              "      <th>1256</th>\n",
              "      <td>O349414970</td>\n",
              "      <td>None</td>\n",
              "      <td>None</td>\n",
              "      <td>None</td>\n",
              "      <td>None</td>\n",
              "      <td>None</td>\n",
              "      <td>None</td>\n",
              "      <td>None</td>\n",
              "      <td>None</td>\n",
              "      <td>None</td>\n",
              "      <td>...</td>\n",
              "      <td>None</td>\n",
              "      <td>None</td>\n",
              "      <td>None</td>\n",
              "      <td>None</td>\n",
              "      <td>None</td>\n",
              "      <td>None</td>\n",
              "      <td>None</td>\n",
              "      <td>None</td>\n",
              "      <td>None</td>\n",
              "      <td>None</td>\n",
              "    </tr>\n",
              "    <tr>\n",
              "      <th>1257</th>\n",
              "      <td>O578891748</td>\n",
              "      <td>None</td>\n",
              "      <td>None</td>\n",
              "      <td>None</td>\n",
              "      <td>None</td>\n",
              "      <td>None</td>\n",
              "      <td>None</td>\n",
              "      <td>None</td>\n",
              "      <td>None</td>\n",
              "      <td>None</td>\n",
              "      <td>...</td>\n",
              "      <td>None</td>\n",
              "      <td>None</td>\n",
              "      <td>None</td>\n",
              "      <td>None</td>\n",
              "      <td>None</td>\n",
              "      <td>None</td>\n",
              "      <td>None</td>\n",
              "      <td>None</td>\n",
              "      <td>None</td>\n",
              "      <td>None</td>\n",
              "    </tr>\n",
              "  </tbody>\n",
              "</table>\n",
              "<p>1258 rows × 23 columns</p>\n",
              "</div>\n",
              "    <div class=\"colab-df-buttons\">\n",
              "\n",
              "  <div class=\"colab-df-container\">\n",
              "    <button class=\"colab-df-convert\" onclick=\"convertToInteractive('df-7b1046e8-2b3d-4e11-b23a-dcd27fab04c3')\"\n",
              "            title=\"Convert this dataframe to an interactive table.\"\n",
              "            style=\"display:none;\">\n",
              "\n",
              "  <svg xmlns=\"http://www.w3.org/2000/svg\" height=\"24px\" viewBox=\"0 -960 960 960\">\n",
              "    <path d=\"M120-120v-720h720v720H120Zm60-500h600v-160H180v160Zm220 220h160v-160H400v160Zm0 220h160v-160H400v160ZM180-400h160v-160H180v160Zm440 0h160v-160H620v160ZM180-180h160v-160H180v160Zm440 0h160v-160H620v160Z\"/>\n",
              "  </svg>\n",
              "    </button>\n",
              "\n",
              "  <style>\n",
              "    .colab-df-container {\n",
              "      display:flex;\n",
              "      gap: 12px;\n",
              "    }\n",
              "\n",
              "    .colab-df-convert {\n",
              "      background-color: #E8F0FE;\n",
              "      border: none;\n",
              "      border-radius: 50%;\n",
              "      cursor: pointer;\n",
              "      display: none;\n",
              "      fill: #1967D2;\n",
              "      height: 32px;\n",
              "      padding: 0 0 0 0;\n",
              "      width: 32px;\n",
              "    }\n",
              "\n",
              "    .colab-df-convert:hover {\n",
              "      background-color: #E2EBFA;\n",
              "      box-shadow: 0px 1px 2px rgba(60, 64, 67, 0.3), 0px 1px 3px 1px rgba(60, 64, 67, 0.15);\n",
              "      fill: #174EA6;\n",
              "    }\n",
              "\n",
              "    .colab-df-buttons div {\n",
              "      margin-bottom: 4px;\n",
              "    }\n",
              "\n",
              "    [theme=dark] .colab-df-convert {\n",
              "      background-color: #3B4455;\n",
              "      fill: #D2E3FC;\n",
              "    }\n",
              "\n",
              "    [theme=dark] .colab-df-convert:hover {\n",
              "      background-color: #434B5C;\n",
              "      box-shadow: 0px 1px 3px 1px rgba(0, 0, 0, 0.15);\n",
              "      filter: drop-shadow(0px 1px 2px rgba(0, 0, 0, 0.3));\n",
              "      fill: #FFFFFF;\n",
              "    }\n",
              "  </style>\n",
              "\n",
              "    <script>\n",
              "      const buttonEl =\n",
              "        document.querySelector('#df-7b1046e8-2b3d-4e11-b23a-dcd27fab04c3 button.colab-df-convert');\n",
              "      buttonEl.style.display =\n",
              "        google.colab.kernel.accessAllowed ? 'block' : 'none';\n",
              "\n",
              "      async function convertToInteractive(key) {\n",
              "        const element = document.querySelector('#df-7b1046e8-2b3d-4e11-b23a-dcd27fab04c3');\n",
              "        const dataTable =\n",
              "          await google.colab.kernel.invokeFunction('convertToInteractive',\n",
              "                                                    [key], {});\n",
              "        if (!dataTable) return;\n",
              "\n",
              "        const docLinkHtml = 'Like what you see? Visit the ' +\n",
              "          '<a target=\"_blank\" href=https://colab.research.google.com/notebooks/data_table.ipynb>data table notebook</a>'\n",
              "          + ' to learn more about interactive tables.';\n",
              "        element.innerHTML = '';\n",
              "        dataTable['output_type'] = 'display_data';\n",
              "        await google.colab.output.renderOutput(dataTable, element);\n",
              "        const docLink = document.createElement('div');\n",
              "        docLink.innerHTML = docLinkHtml;\n",
              "        element.appendChild(docLink);\n",
              "      }\n",
              "    </script>\n",
              "  </div>\n",
              "\n",
              "\n",
              "<div id=\"df-6a4d8194-2def-4e8c-847b-8e4ad8d10d8b\">\n",
              "  <button class=\"colab-df-quickchart\" onclick=\"quickchart('df-6a4d8194-2def-4e8c-847b-8e4ad8d10d8b')\"\n",
              "            title=\"Suggest charts\"\n",
              "            style=\"display:none;\">\n",
              "\n",
              "<svg xmlns=\"http://www.w3.org/2000/svg\" height=\"24px\"viewBox=\"0 0 24 24\"\n",
              "     width=\"24px\">\n",
              "    <g>\n",
              "        <path d=\"M19 3H5c-1.1 0-2 .9-2 2v14c0 1.1.9 2 2 2h14c1.1 0 2-.9 2-2V5c0-1.1-.9-2-2-2zM9 17H7v-7h2v7zm4 0h-2V7h2v10zm4 0h-2v-4h2v4z\"/>\n",
              "    </g>\n",
              "</svg>\n",
              "  </button>\n",
              "\n",
              "<style>\n",
              "  .colab-df-quickchart {\n",
              "      --bg-color: #E8F0FE;\n",
              "      --fill-color: #1967D2;\n",
              "      --hover-bg-color: #E2EBFA;\n",
              "      --hover-fill-color: #174EA6;\n",
              "      --disabled-fill-color: #AAA;\n",
              "      --disabled-bg-color: #DDD;\n",
              "  }\n",
              "\n",
              "  [theme=dark] .colab-df-quickchart {\n",
              "      --bg-color: #3B4455;\n",
              "      --fill-color: #D2E3FC;\n",
              "      --hover-bg-color: #434B5C;\n",
              "      --hover-fill-color: #FFFFFF;\n",
              "      --disabled-bg-color: #3B4455;\n",
              "      --disabled-fill-color: #666;\n",
              "  }\n",
              "\n",
              "  .colab-df-quickchart {\n",
              "    background-color: var(--bg-color);\n",
              "    border: none;\n",
              "    border-radius: 50%;\n",
              "    cursor: pointer;\n",
              "    display: none;\n",
              "    fill: var(--fill-color);\n",
              "    height: 32px;\n",
              "    padding: 0;\n",
              "    width: 32px;\n",
              "  }\n",
              "\n",
              "  .colab-df-quickchart:hover {\n",
              "    background-color: var(--hover-bg-color);\n",
              "    box-shadow: 0 1px 2px rgba(60, 64, 67, 0.3), 0 1px 3px 1px rgba(60, 64, 67, 0.15);\n",
              "    fill: var(--button-hover-fill-color);\n",
              "  }\n",
              "\n",
              "  .colab-df-quickchart-complete:disabled,\n",
              "  .colab-df-quickchart-complete:disabled:hover {\n",
              "    background-color: var(--disabled-bg-color);\n",
              "    fill: var(--disabled-fill-color);\n",
              "    box-shadow: none;\n",
              "  }\n",
              "\n",
              "  .colab-df-spinner {\n",
              "    border: 2px solid var(--fill-color);\n",
              "    border-color: transparent;\n",
              "    border-bottom-color: var(--fill-color);\n",
              "    animation:\n",
              "      spin 1s steps(1) infinite;\n",
              "  }\n",
              "\n",
              "  @keyframes spin {\n",
              "    0% {\n",
              "      border-color: transparent;\n",
              "      border-bottom-color: var(--fill-color);\n",
              "      border-left-color: var(--fill-color);\n",
              "    }\n",
              "    20% {\n",
              "      border-color: transparent;\n",
              "      border-left-color: var(--fill-color);\n",
              "      border-top-color: var(--fill-color);\n",
              "    }\n",
              "    30% {\n",
              "      border-color: transparent;\n",
              "      border-left-color: var(--fill-color);\n",
              "      border-top-color: var(--fill-color);\n",
              "      border-right-color: var(--fill-color);\n",
              "    }\n",
              "    40% {\n",
              "      border-color: transparent;\n",
              "      border-right-color: var(--fill-color);\n",
              "      border-top-color: var(--fill-color);\n",
              "    }\n",
              "    60% {\n",
              "      border-color: transparent;\n",
              "      border-right-color: var(--fill-color);\n",
              "    }\n",
              "    80% {\n",
              "      border-color: transparent;\n",
              "      border-right-color: var(--fill-color);\n",
              "      border-bottom-color: var(--fill-color);\n",
              "    }\n",
              "    90% {\n",
              "      border-color: transparent;\n",
              "      border-bottom-color: var(--fill-color);\n",
              "    }\n",
              "  }\n",
              "</style>\n",
              "\n",
              "  <script>\n",
              "    async function quickchart(key) {\n",
              "      const quickchartButtonEl =\n",
              "        document.querySelector('#' + key + ' button');\n",
              "      quickchartButtonEl.disabled = true;  // To prevent multiple clicks.\n",
              "      quickchartButtonEl.classList.add('colab-df-spinner');\n",
              "      try {\n",
              "        const charts = await google.colab.kernel.invokeFunction(\n",
              "            'suggestCharts', [key], {});\n",
              "      } catch (error) {\n",
              "        console.error('Error during call to suggestCharts:', error);\n",
              "      }\n",
              "      quickchartButtonEl.classList.remove('colab-df-spinner');\n",
              "      quickchartButtonEl.classList.add('colab-df-quickchart-complete');\n",
              "    }\n",
              "    (() => {\n",
              "      let quickchartButtonEl =\n",
              "        document.querySelector('#df-6a4d8194-2def-4e8c-847b-8e4ad8d10d8b button');\n",
              "      quickchartButtonEl.style.display =\n",
              "        google.colab.kernel.accessAllowed ? 'block' : 'none';\n",
              "    })();\n",
              "  </script>\n",
              "</div>\n",
              "    </div>\n",
              "  </div>\n"
            ],
            "application/vnd.google.colaboratory.intrinsic+json": {
              "type": "dataframe",
              "variable_name": "df_DEU_2"
            }
          },
          "metadata": {},
          "execution_count": 72
        }
      ]
    },
    {
      "cell_type": "markdown",
      "source": [
        "### Россия (RUS)"
      ],
      "metadata": {
        "id": "W4e6P-upBVgw"
      }
    },
    {
      "cell_type": "code",
      "source": [
        "df_RUS_1 = pd.DataFrame(record, columns = columns)\n",
        "df_RUS_1.to_excel('infoCDN_about_bulls_RUS_1.xlsx', index=False)"
      ],
      "metadata": {
        "id": "S_Wd1QXlBueR"
      },
      "execution_count": null,
      "outputs": []
    },
    {
      "cell_type": "code",
      "source": [
        "df_RUS_2 = pd.DataFrame(record, columns = columns)\n",
        "df_RUS_2.to_excel('infoCDN_about_bulls_RUS_2.xlsx', index=False)"
      ],
      "metadata": {
        "id": "1fGGQ3IwBwMl"
      },
      "execution_count": null,
      "outputs": []
    },
    {
      "cell_type": "code",
      "source": [
        "df_RUS_2"
      ],
      "metadata": {
        "id": "Dk2bNURYOqmB",
        "outputId": "53b44f6b-e01a-42ef-b8ec-71999f572eb3",
        "colab": {
          "base_uri": "https://localhost:8080/",
          "height": 478
        }
      },
      "execution_count": null,
      "outputs": [
        {
          "output_type": "execute_result",
          "data": {
            "text/plain": [
              "         NUMBER Bull Number Klichka    DR  Pro$ LIFETIME PERFORMANCE INDEX  \\\n",
              "0    5090001509        None    None  None  None                       None   \n",
              "1    5090001510        None    None  None  None                       None   \n",
              "2    5090001515        None    None  None  None                       None   \n",
              "3    5090001517        None    None  None  None                       None   \n",
              "4    5090001518        None    None  None  None                       None   \n",
              "..          ...         ...     ...   ...   ...                        ...   \n",
              "940  6290007776        None    None  None  None                       None   \n",
              "941  6290007977        None    None  None  None                       None   \n",
              "942  6790000258        None    None  None  None                       None   \n",
              "943  6790002199        None    None  None  None                       None   \n",
              "944  6790002201        None    None  None  None                       None   \n",
              "\n",
              "    REABILITY LPI PRODUCTION DURABILITY HEALTH & FERTILITY  ... Reliability  \\\n",
              "0            None       None       None               None  ...        None   \n",
              "1            None       None       None               None  ...        None   \n",
              "2            None       None       None               None  ...        None   \n",
              "3            None       None       None               None  ...        None   \n",
              "4            None       None       None               None  ...        None   \n",
              "..            ...        ...        ...                ...  ...         ...   \n",
              "940          None       None       None               None  ...        None   \n",
              "941          None       None       None               None  ...        None   \n",
              "942          None       None       None               None  ...        None   \n",
              "943          None       None       None               None  ...        None   \n",
              "944          None       None       None               None  ...        None   \n",
              "\n",
              "     Milk   Fat Protein Milk_RK Fat_RK Protein_RK Milk_Dev Fat_Dev Protein_Dev  \n",
              "0    None  None    None    None   None       None     None    None        None  \n",
              "1    None  None    None    None   None       None     None    None        None  \n",
              "2    None  None    None    None   None       None     None    None        None  \n",
              "3    None  None    None    None   None       None     None    None        None  \n",
              "4    None  None    None    None   None       None     None    None        None  \n",
              "..    ...   ...     ...     ...    ...        ...      ...     ...         ...  \n",
              "940  None  None    None    None   None       None     None    None        None  \n",
              "941  None  None    None    None   None       None     None    None        None  \n",
              "942  None  None    None    None   None       None     None    None        None  \n",
              "943  None  None    None    None   None       None     None    None        None  \n",
              "944  None  None    None    None   None       None     None    None        None  \n",
              "\n",
              "[945 rows x 23 columns]"
            ],
            "text/html": [
              "\n",
              "  <div id=\"df-92ac943c-e8e7-44f8-b1af-b32431547f3a\" class=\"colab-df-container\">\n",
              "    <div>\n",
              "<style scoped>\n",
              "    .dataframe tbody tr th:only-of-type {\n",
              "        vertical-align: middle;\n",
              "    }\n",
              "\n",
              "    .dataframe tbody tr th {\n",
              "        vertical-align: top;\n",
              "    }\n",
              "\n",
              "    .dataframe thead th {\n",
              "        text-align: right;\n",
              "    }\n",
              "</style>\n",
              "<table border=\"1\" class=\"dataframe\">\n",
              "  <thead>\n",
              "    <tr style=\"text-align: right;\">\n",
              "      <th></th>\n",
              "      <th>NUMBER</th>\n",
              "      <th>Bull Number</th>\n",
              "      <th>Klichka</th>\n",
              "      <th>DR</th>\n",
              "      <th>Pro$</th>\n",
              "      <th>LIFETIME PERFORMANCE INDEX</th>\n",
              "      <th>REABILITY LPI</th>\n",
              "      <th>PRODUCTION</th>\n",
              "      <th>DURABILITY</th>\n",
              "      <th>HEALTH &amp; FERTILITY</th>\n",
              "      <th>...</th>\n",
              "      <th>Reliability</th>\n",
              "      <th>Milk</th>\n",
              "      <th>Fat</th>\n",
              "      <th>Protein</th>\n",
              "      <th>Milk_RK</th>\n",
              "      <th>Fat_RK</th>\n",
              "      <th>Protein_RK</th>\n",
              "      <th>Milk_Dev</th>\n",
              "      <th>Fat_Dev</th>\n",
              "      <th>Protein_Dev</th>\n",
              "    </tr>\n",
              "  </thead>\n",
              "  <tbody>\n",
              "    <tr>\n",
              "      <th>0</th>\n",
              "      <td>5090001509</td>\n",
              "      <td>None</td>\n",
              "      <td>None</td>\n",
              "      <td>None</td>\n",
              "      <td>None</td>\n",
              "      <td>None</td>\n",
              "      <td>None</td>\n",
              "      <td>None</td>\n",
              "      <td>None</td>\n",
              "      <td>None</td>\n",
              "      <td>...</td>\n",
              "      <td>None</td>\n",
              "      <td>None</td>\n",
              "      <td>None</td>\n",
              "      <td>None</td>\n",
              "      <td>None</td>\n",
              "      <td>None</td>\n",
              "      <td>None</td>\n",
              "      <td>None</td>\n",
              "      <td>None</td>\n",
              "      <td>None</td>\n",
              "    </tr>\n",
              "    <tr>\n",
              "      <th>1</th>\n",
              "      <td>5090001510</td>\n",
              "      <td>None</td>\n",
              "      <td>None</td>\n",
              "      <td>None</td>\n",
              "      <td>None</td>\n",
              "      <td>None</td>\n",
              "      <td>None</td>\n",
              "      <td>None</td>\n",
              "      <td>None</td>\n",
              "      <td>None</td>\n",
              "      <td>...</td>\n",
              "      <td>None</td>\n",
              "      <td>None</td>\n",
              "      <td>None</td>\n",
              "      <td>None</td>\n",
              "      <td>None</td>\n",
              "      <td>None</td>\n",
              "      <td>None</td>\n",
              "      <td>None</td>\n",
              "      <td>None</td>\n",
              "      <td>None</td>\n",
              "    </tr>\n",
              "    <tr>\n",
              "      <th>2</th>\n",
              "      <td>5090001515</td>\n",
              "      <td>None</td>\n",
              "      <td>None</td>\n",
              "      <td>None</td>\n",
              "      <td>None</td>\n",
              "      <td>None</td>\n",
              "      <td>None</td>\n",
              "      <td>None</td>\n",
              "      <td>None</td>\n",
              "      <td>None</td>\n",
              "      <td>...</td>\n",
              "      <td>None</td>\n",
              "      <td>None</td>\n",
              "      <td>None</td>\n",
              "      <td>None</td>\n",
              "      <td>None</td>\n",
              "      <td>None</td>\n",
              "      <td>None</td>\n",
              "      <td>None</td>\n",
              "      <td>None</td>\n",
              "      <td>None</td>\n",
              "    </tr>\n",
              "    <tr>\n",
              "      <th>3</th>\n",
              "      <td>5090001517</td>\n",
              "      <td>None</td>\n",
              "      <td>None</td>\n",
              "      <td>None</td>\n",
              "      <td>None</td>\n",
              "      <td>None</td>\n",
              "      <td>None</td>\n",
              "      <td>None</td>\n",
              "      <td>None</td>\n",
              "      <td>None</td>\n",
              "      <td>...</td>\n",
              "      <td>None</td>\n",
              "      <td>None</td>\n",
              "      <td>None</td>\n",
              "      <td>None</td>\n",
              "      <td>None</td>\n",
              "      <td>None</td>\n",
              "      <td>None</td>\n",
              "      <td>None</td>\n",
              "      <td>None</td>\n",
              "      <td>None</td>\n",
              "    </tr>\n",
              "    <tr>\n",
              "      <th>4</th>\n",
              "      <td>5090001518</td>\n",
              "      <td>None</td>\n",
              "      <td>None</td>\n",
              "      <td>None</td>\n",
              "      <td>None</td>\n",
              "      <td>None</td>\n",
              "      <td>None</td>\n",
              "      <td>None</td>\n",
              "      <td>None</td>\n",
              "      <td>None</td>\n",
              "      <td>...</td>\n",
              "      <td>None</td>\n",
              "      <td>None</td>\n",
              "      <td>None</td>\n",
              "      <td>None</td>\n",
              "      <td>None</td>\n",
              "      <td>None</td>\n",
              "      <td>None</td>\n",
              "      <td>None</td>\n",
              "      <td>None</td>\n",
              "      <td>None</td>\n",
              "    </tr>\n",
              "    <tr>\n",
              "      <th>...</th>\n",
              "      <td>...</td>\n",
              "      <td>...</td>\n",
              "      <td>...</td>\n",
              "      <td>...</td>\n",
              "      <td>...</td>\n",
              "      <td>...</td>\n",
              "      <td>...</td>\n",
              "      <td>...</td>\n",
              "      <td>...</td>\n",
              "      <td>...</td>\n",
              "      <td>...</td>\n",
              "      <td>...</td>\n",
              "      <td>...</td>\n",
              "      <td>...</td>\n",
              "      <td>...</td>\n",
              "      <td>...</td>\n",
              "      <td>...</td>\n",
              "      <td>...</td>\n",
              "      <td>...</td>\n",
              "      <td>...</td>\n",
              "      <td>...</td>\n",
              "    </tr>\n",
              "    <tr>\n",
              "      <th>940</th>\n",
              "      <td>6290007776</td>\n",
              "      <td>None</td>\n",
              "      <td>None</td>\n",
              "      <td>None</td>\n",
              "      <td>None</td>\n",
              "      <td>None</td>\n",
              "      <td>None</td>\n",
              "      <td>None</td>\n",
              "      <td>None</td>\n",
              "      <td>None</td>\n",
              "      <td>...</td>\n",
              "      <td>None</td>\n",
              "      <td>None</td>\n",
              "      <td>None</td>\n",
              "      <td>None</td>\n",
              "      <td>None</td>\n",
              "      <td>None</td>\n",
              "      <td>None</td>\n",
              "      <td>None</td>\n",
              "      <td>None</td>\n",
              "      <td>None</td>\n",
              "    </tr>\n",
              "    <tr>\n",
              "      <th>941</th>\n",
              "      <td>6290007977</td>\n",
              "      <td>None</td>\n",
              "      <td>None</td>\n",
              "      <td>None</td>\n",
              "      <td>None</td>\n",
              "      <td>None</td>\n",
              "      <td>None</td>\n",
              "      <td>None</td>\n",
              "      <td>None</td>\n",
              "      <td>None</td>\n",
              "      <td>...</td>\n",
              "      <td>None</td>\n",
              "      <td>None</td>\n",
              "      <td>None</td>\n",
              "      <td>None</td>\n",
              "      <td>None</td>\n",
              "      <td>None</td>\n",
              "      <td>None</td>\n",
              "      <td>None</td>\n",
              "      <td>None</td>\n",
              "      <td>None</td>\n",
              "    </tr>\n",
              "    <tr>\n",
              "      <th>942</th>\n",
              "      <td>6790000258</td>\n",
              "      <td>None</td>\n",
              "      <td>None</td>\n",
              "      <td>None</td>\n",
              "      <td>None</td>\n",
              "      <td>None</td>\n",
              "      <td>None</td>\n",
              "      <td>None</td>\n",
              "      <td>None</td>\n",
              "      <td>None</td>\n",
              "      <td>...</td>\n",
              "      <td>None</td>\n",
              "      <td>None</td>\n",
              "      <td>None</td>\n",
              "      <td>None</td>\n",
              "      <td>None</td>\n",
              "      <td>None</td>\n",
              "      <td>None</td>\n",
              "      <td>None</td>\n",
              "      <td>None</td>\n",
              "      <td>None</td>\n",
              "    </tr>\n",
              "    <tr>\n",
              "      <th>943</th>\n",
              "      <td>6790002199</td>\n",
              "      <td>None</td>\n",
              "      <td>None</td>\n",
              "      <td>None</td>\n",
              "      <td>None</td>\n",
              "      <td>None</td>\n",
              "      <td>None</td>\n",
              "      <td>None</td>\n",
              "      <td>None</td>\n",
              "      <td>None</td>\n",
              "      <td>...</td>\n",
              "      <td>None</td>\n",
              "      <td>None</td>\n",
              "      <td>None</td>\n",
              "      <td>None</td>\n",
              "      <td>None</td>\n",
              "      <td>None</td>\n",
              "      <td>None</td>\n",
              "      <td>None</td>\n",
              "      <td>None</td>\n",
              "      <td>None</td>\n",
              "    </tr>\n",
              "    <tr>\n",
              "      <th>944</th>\n",
              "      <td>6790002201</td>\n",
              "      <td>None</td>\n",
              "      <td>None</td>\n",
              "      <td>None</td>\n",
              "      <td>None</td>\n",
              "      <td>None</td>\n",
              "      <td>None</td>\n",
              "      <td>None</td>\n",
              "      <td>None</td>\n",
              "      <td>None</td>\n",
              "      <td>...</td>\n",
              "      <td>None</td>\n",
              "      <td>None</td>\n",
              "      <td>None</td>\n",
              "      <td>None</td>\n",
              "      <td>None</td>\n",
              "      <td>None</td>\n",
              "      <td>None</td>\n",
              "      <td>None</td>\n",
              "      <td>None</td>\n",
              "      <td>None</td>\n",
              "    </tr>\n",
              "  </tbody>\n",
              "</table>\n",
              "<p>945 rows × 23 columns</p>\n",
              "</div>\n",
              "    <div class=\"colab-df-buttons\">\n",
              "\n",
              "  <div class=\"colab-df-container\">\n",
              "    <button class=\"colab-df-convert\" onclick=\"convertToInteractive('df-92ac943c-e8e7-44f8-b1af-b32431547f3a')\"\n",
              "            title=\"Convert this dataframe to an interactive table.\"\n",
              "            style=\"display:none;\">\n",
              "\n",
              "  <svg xmlns=\"http://www.w3.org/2000/svg\" height=\"24px\" viewBox=\"0 -960 960 960\">\n",
              "    <path d=\"M120-120v-720h720v720H120Zm60-500h600v-160H180v160Zm220 220h160v-160H400v160Zm0 220h160v-160H400v160ZM180-400h160v-160H180v160Zm440 0h160v-160H620v160ZM180-180h160v-160H180v160Zm440 0h160v-160H620v160Z\"/>\n",
              "  </svg>\n",
              "    </button>\n",
              "\n",
              "  <style>\n",
              "    .colab-df-container {\n",
              "      display:flex;\n",
              "      gap: 12px;\n",
              "    }\n",
              "\n",
              "    .colab-df-convert {\n",
              "      background-color: #E8F0FE;\n",
              "      border: none;\n",
              "      border-radius: 50%;\n",
              "      cursor: pointer;\n",
              "      display: none;\n",
              "      fill: #1967D2;\n",
              "      height: 32px;\n",
              "      padding: 0 0 0 0;\n",
              "      width: 32px;\n",
              "    }\n",
              "\n",
              "    .colab-df-convert:hover {\n",
              "      background-color: #E2EBFA;\n",
              "      box-shadow: 0px 1px 2px rgba(60, 64, 67, 0.3), 0px 1px 3px 1px rgba(60, 64, 67, 0.15);\n",
              "      fill: #174EA6;\n",
              "    }\n",
              "\n",
              "    .colab-df-buttons div {\n",
              "      margin-bottom: 4px;\n",
              "    }\n",
              "\n",
              "    [theme=dark] .colab-df-convert {\n",
              "      background-color: #3B4455;\n",
              "      fill: #D2E3FC;\n",
              "    }\n",
              "\n",
              "    [theme=dark] .colab-df-convert:hover {\n",
              "      background-color: #434B5C;\n",
              "      box-shadow: 0px 1px 3px 1px rgba(0, 0, 0, 0.15);\n",
              "      filter: drop-shadow(0px 1px 2px rgba(0, 0, 0, 0.3));\n",
              "      fill: #FFFFFF;\n",
              "    }\n",
              "  </style>\n",
              "\n",
              "    <script>\n",
              "      const buttonEl =\n",
              "        document.querySelector('#df-92ac943c-e8e7-44f8-b1af-b32431547f3a button.colab-df-convert');\n",
              "      buttonEl.style.display =\n",
              "        google.colab.kernel.accessAllowed ? 'block' : 'none';\n",
              "\n",
              "      async function convertToInteractive(key) {\n",
              "        const element = document.querySelector('#df-92ac943c-e8e7-44f8-b1af-b32431547f3a');\n",
              "        const dataTable =\n",
              "          await google.colab.kernel.invokeFunction('convertToInteractive',\n",
              "                                                    [key], {});\n",
              "        if (!dataTable) return;\n",
              "\n",
              "        const docLinkHtml = 'Like what you see? Visit the ' +\n",
              "          '<a target=\"_blank\" href=https://colab.research.google.com/notebooks/data_table.ipynb>data table notebook</a>'\n",
              "          + ' to learn more about interactive tables.';\n",
              "        element.innerHTML = '';\n",
              "        dataTable['output_type'] = 'display_data';\n",
              "        await google.colab.output.renderOutput(dataTable, element);\n",
              "        const docLink = document.createElement('div');\n",
              "        docLink.innerHTML = docLinkHtml;\n",
              "        element.appendChild(docLink);\n",
              "      }\n",
              "    </script>\n",
              "  </div>\n",
              "\n",
              "\n",
              "<div id=\"df-2121d0f2-0930-4d0b-a505-0d5e180030cc\">\n",
              "  <button class=\"colab-df-quickchart\" onclick=\"quickchart('df-2121d0f2-0930-4d0b-a505-0d5e180030cc')\"\n",
              "            title=\"Suggest charts\"\n",
              "            style=\"display:none;\">\n",
              "\n",
              "<svg xmlns=\"http://www.w3.org/2000/svg\" height=\"24px\"viewBox=\"0 0 24 24\"\n",
              "     width=\"24px\">\n",
              "    <g>\n",
              "        <path d=\"M19 3H5c-1.1 0-2 .9-2 2v14c0 1.1.9 2 2 2h14c1.1 0 2-.9 2-2V5c0-1.1-.9-2-2-2zM9 17H7v-7h2v7zm4 0h-2V7h2v10zm4 0h-2v-4h2v4z\"/>\n",
              "    </g>\n",
              "</svg>\n",
              "  </button>\n",
              "\n",
              "<style>\n",
              "  .colab-df-quickchart {\n",
              "      --bg-color: #E8F0FE;\n",
              "      --fill-color: #1967D2;\n",
              "      --hover-bg-color: #E2EBFA;\n",
              "      --hover-fill-color: #174EA6;\n",
              "      --disabled-fill-color: #AAA;\n",
              "      --disabled-bg-color: #DDD;\n",
              "  }\n",
              "\n",
              "  [theme=dark] .colab-df-quickchart {\n",
              "      --bg-color: #3B4455;\n",
              "      --fill-color: #D2E3FC;\n",
              "      --hover-bg-color: #434B5C;\n",
              "      --hover-fill-color: #FFFFFF;\n",
              "      --disabled-bg-color: #3B4455;\n",
              "      --disabled-fill-color: #666;\n",
              "  }\n",
              "\n",
              "  .colab-df-quickchart {\n",
              "    background-color: var(--bg-color);\n",
              "    border: none;\n",
              "    border-radius: 50%;\n",
              "    cursor: pointer;\n",
              "    display: none;\n",
              "    fill: var(--fill-color);\n",
              "    height: 32px;\n",
              "    padding: 0;\n",
              "    width: 32px;\n",
              "  }\n",
              "\n",
              "  .colab-df-quickchart:hover {\n",
              "    background-color: var(--hover-bg-color);\n",
              "    box-shadow: 0 1px 2px rgba(60, 64, 67, 0.3), 0 1px 3px 1px rgba(60, 64, 67, 0.15);\n",
              "    fill: var(--button-hover-fill-color);\n",
              "  }\n",
              "\n",
              "  .colab-df-quickchart-complete:disabled,\n",
              "  .colab-df-quickchart-complete:disabled:hover {\n",
              "    background-color: var(--disabled-bg-color);\n",
              "    fill: var(--disabled-fill-color);\n",
              "    box-shadow: none;\n",
              "  }\n",
              "\n",
              "  .colab-df-spinner {\n",
              "    border: 2px solid var(--fill-color);\n",
              "    border-color: transparent;\n",
              "    border-bottom-color: var(--fill-color);\n",
              "    animation:\n",
              "      spin 1s steps(1) infinite;\n",
              "  }\n",
              "\n",
              "  @keyframes spin {\n",
              "    0% {\n",
              "      border-color: transparent;\n",
              "      border-bottom-color: var(--fill-color);\n",
              "      border-left-color: var(--fill-color);\n",
              "    }\n",
              "    20% {\n",
              "      border-color: transparent;\n",
              "      border-left-color: var(--fill-color);\n",
              "      border-top-color: var(--fill-color);\n",
              "    }\n",
              "    30% {\n",
              "      border-color: transparent;\n",
              "      border-left-color: var(--fill-color);\n",
              "      border-top-color: var(--fill-color);\n",
              "      border-right-color: var(--fill-color);\n",
              "    }\n",
              "    40% {\n",
              "      border-color: transparent;\n",
              "      border-right-color: var(--fill-color);\n",
              "      border-top-color: var(--fill-color);\n",
              "    }\n",
              "    60% {\n",
              "      border-color: transparent;\n",
              "      border-right-color: var(--fill-color);\n",
              "    }\n",
              "    80% {\n",
              "      border-color: transparent;\n",
              "      border-right-color: var(--fill-color);\n",
              "      border-bottom-color: var(--fill-color);\n",
              "    }\n",
              "    90% {\n",
              "      border-color: transparent;\n",
              "      border-bottom-color: var(--fill-color);\n",
              "    }\n",
              "  }\n",
              "</style>\n",
              "\n",
              "  <script>\n",
              "    async function quickchart(key) {\n",
              "      const quickchartButtonEl =\n",
              "        document.querySelector('#' + key + ' button');\n",
              "      quickchartButtonEl.disabled = true;  // To prevent multiple clicks.\n",
              "      quickchartButtonEl.classList.add('colab-df-spinner');\n",
              "      try {\n",
              "        const charts = await google.colab.kernel.invokeFunction(\n",
              "            'suggestCharts', [key], {});\n",
              "      } catch (error) {\n",
              "        console.error('Error during call to suggestCharts:', error);\n",
              "      }\n",
              "      quickchartButtonEl.classList.remove('colab-df-spinner');\n",
              "      quickchartButtonEl.classList.add('colab-df-quickchart-complete');\n",
              "    }\n",
              "    (() => {\n",
              "      let quickchartButtonEl =\n",
              "        document.querySelector('#df-2121d0f2-0930-4d0b-a505-0d5e180030cc button');\n",
              "      quickchartButtonEl.style.display =\n",
              "        google.colab.kernel.accessAllowed ? 'block' : 'none';\n",
              "    })();\n",
              "  </script>\n",
              "</div>\n",
              "    </div>\n",
              "  </div>\n"
            ],
            "application/vnd.google.colaboratory.intrinsic+json": {
              "type": "dataframe",
              "variable_name": "df_RUS_2"
            }
          },
          "metadata": {},
          "execution_count": 68
        }
      ]
    },
    {
      "cell_type": "markdown",
      "source": [
        "### Канада (CAN)"
      ],
      "metadata": {
        "id": "zlUxkXCUnCAY"
      }
    },
    {
      "cell_type": "code",
      "source": [
        "df_CAN = pd.DataFrame(record, columns = columns)\n",
        "df_CAN.to_excel('infoCDN_about_bulls_CAN.xlsx', index=False)"
      ],
      "metadata": {
        "id": "QclIQnXZD1wa"
      },
      "execution_count": null,
      "outputs": []
    },
    {
      "cell_type": "markdown",
      "source": [
        "### Дания (DNK)"
      ],
      "metadata": {
        "id": "LZxHrh7pFZfy"
      }
    },
    {
      "cell_type": "code",
      "source": [
        "df_DNK = pd.DataFrame(record, columns = columns)\n",
        "df_DNK.to_excel('infoCDN_about_bulls_DNK.xlsx', index=False)"
      ],
      "metadata": {
        "id": "HBecxaVpF85h"
      },
      "execution_count": null,
      "outputs": []
    },
    {
      "cell_type": "markdown",
      "source": [
        "### Франция (FRA)"
      ],
      "metadata": {
        "id": "6YIXILyoGDDz"
      }
    },
    {
      "cell_type": "code",
      "source": [
        "df_FRA = pd.DataFrame(record, columns = columns)\n",
        "df_FRA.to_excel('infoCDN_about_bulls_FRA.xlsx', index=False)"
      ],
      "metadata": {
        "id": "b97ahLBqGIXI"
      },
      "execution_count": null,
      "outputs": []
    },
    {
      "cell_type": "markdown",
      "source": [
        "### Италия (ITA)"
      ],
      "metadata": {
        "id": "9nCeVrn5IBcw"
      }
    },
    {
      "cell_type": "code",
      "source": [
        "df_ITA = pd.DataFrame(record, columns = columns)\n",
        "df_ITA.to_excel('infoCDN_about_bulls_ITA.xlsx', index=False)"
      ],
      "metadata": {
        "id": "2dQoAt1mIArp"
      },
      "execution_count": null,
      "outputs": []
    },
    {
      "cell_type": "markdown",
      "source": [
        "### Великобритания (GBR)"
      ],
      "metadata": {
        "id": "ajAlp616Ip_Y"
      }
    },
    {
      "cell_type": "code",
      "source": [
        "df_GBR = pd.DataFrame(record, columns = columns)\n",
        "df_GBR.to_excel('infoCDN_about_bulls_GBR.xlsx', index=False)"
      ],
      "metadata": {
        "id": "mi3TjVPrI3Wn"
      },
      "execution_count": null,
      "outputs": []
    },
    {
      "cell_type": "markdown",
      "source": [
        "### Венгрия (HUN)"
      ],
      "metadata": {
        "id": "HpYktw47JObI"
      }
    },
    {
      "cell_type": "code",
      "source": [
        "df_HUN = pd.DataFrame(record, columns = columns)\n",
        "df_HUN.to_excel('infoCDN_about_bulls_HUN.xlsx', index=False)"
      ],
      "metadata": {
        "id": "B44VzQJOJW25"
      },
      "execution_count": null,
      "outputs": []
    },
    {
      "cell_type": "markdown",
      "source": [
        "### Швеция (SWE)"
      ],
      "metadata": {
        "id": "QrAb9JdhKiEA"
      }
    },
    {
      "cell_type": "code",
      "source": [
        "df_SWE = pd.DataFrame(record, columns = columns)\n",
        "df_SWE.to_excel('infoCDN_about_bulls_SWE.xlsx', index=False)"
      ],
      "metadata": {
        "id": "tCGrNEB3JuXJ"
      },
      "execution_count": null,
      "outputs": []
    },
    {
      "cell_type": "markdown",
      "source": [
        "### Швейцария (SZE)"
      ],
      "metadata": {
        "id": "YKm3-OUFNK6e"
      }
    },
    {
      "cell_type": "code",
      "source": [
        "df_SZE = pd.DataFrame(record, columns = columns)\n",
        "df_SZE.to_excel('infoCDN_about_bulls_SWE.xlsx', index=False)"
      ],
      "metadata": {
        "id": "SjUyMco5NKJ8"
      },
      "execution_count": null,
      "outputs": []
    },
    {
      "cell_type": "markdown",
      "source": [
        "### Чехия (CHE)"
      ],
      "metadata": {
        "id": "-PGX-B26KkZl"
      }
    },
    {
      "cell_type": "code",
      "source": [
        "df_CHE = pd.DataFrame(record, columns = columns)\n",
        "df_CHE.to_excel('infoCDN_about_bulls_CHE.xlsx', index=False)"
      ],
      "metadata": {
        "id": "hLMa9qMTKw23"
      },
      "execution_count": null,
      "outputs": []
    },
    {
      "cell_type": "markdown",
      "source": [
        "### Бельгия (BEL)"
      ],
      "metadata": {
        "id": "1R0N64wWNgPy"
      }
    },
    {
      "cell_type": "code",
      "source": [
        "df_BEL = pd.DataFrame(record, columns = columns)\n",
        "df_BEL.to_excel('infoCDN_about_bulls_BEL.xlsx', index=False)"
      ],
      "metadata": {
        "id": "isE4-3DnK0jG"
      },
      "execution_count": null,
      "outputs": []
    },
    {
      "cell_type": "markdown",
      "source": [
        "### Финлянция (FIN)"
      ],
      "metadata": {
        "id": "P9aMl9o1KmQT"
      }
    },
    {
      "cell_type": "code",
      "source": [
        "df_FIN = pd.DataFrame(record, columns = columns)\n",
        "df_FIN.to_excel('infoCDN_about_bulls_FIN.xlsx', index=False)"
      ],
      "metadata": {
        "id": "w00rbNrwQdvh"
      },
      "execution_count": null,
      "outputs": []
    },
    {
      "cell_type": "markdown",
      "source": [
        "### Австралия (AUS)"
      ],
      "metadata": {
        "id": "LC6FzngAKnft"
      }
    },
    {
      "cell_type": "code",
      "source": [
        "df_AUS = pd.DataFrame(record, columns = columns)\n",
        "df_AUS.to_excel('infoCDN_about_bulls_AUS.xlsx', index=False)"
      ],
      "metadata": {
        "id": "V-I2NqY7LO2H"
      },
      "execution_count": null,
      "outputs": []
    },
    {
      "cell_type": "markdown",
      "source": [
        "### Беларусь (BLR)"
      ],
      "metadata": {
        "id": "ZlPhHReAKph3"
      }
    },
    {
      "cell_type": "code",
      "source": [
        "df_BLR = pd.DataFrame(record, columns = columns)\n",
        "df_BLR.to_excel('infoCDN_about_bulls_BLR.xlsx', index=False)"
      ],
      "metadata": {
        "id": "qc1WLhEfRyUf"
      },
      "execution_count": null,
      "outputs": []
    },
    {
      "cell_type": "markdown",
      "source": [
        "### Новая Зеландия (NZL)"
      ],
      "metadata": {
        "id": "9OxsPHjvSMtg"
      }
    },
    {
      "cell_type": "code",
      "source": [
        "df_NZL = pd.DataFrame(record, columns = columns)\n",
        "df_NZL.to_excel('infoCDN_about_bulls_NZL.xlsx', index=False)"
      ],
      "metadata": {
        "id": "LGq0SkiiSSoa"
      },
      "execution_count": null,
      "outputs": []
    },
    {
      "cell_type": "markdown",
      "source": [
        "### Ирландия (IRL)"
      ],
      "metadata": {
        "id": "tlufrHOUSS-I"
      }
    },
    {
      "cell_type": "code",
      "source": [
        "df_IRL = pd.DataFrame(record, columns = columns)\n",
        "df_IRL.to_excel('infoCDN_about_bulls_IRL.xlsx', index=False)"
      ],
      "metadata": {
        "id": "KmM-vCvTsENR"
      },
      "execution_count": null,
      "outputs": []
    },
    {
      "cell_type": "markdown",
      "source": [
        "### Словакия (SVK)"
      ],
      "metadata": {
        "id": "FD0fBmXpSeAZ"
      }
    },
    {
      "cell_type": "code",
      "source": [
        "df_SVK = pd.DataFrame(record, columns = columns)\n",
        "df_SVK.to_excel('infoCDN_about_bulls_SVK.xlsx', index=False)"
      ],
      "metadata": {
        "id": "bUGdC7vmsI5y"
      },
      "execution_count": null,
      "outputs": []
    },
    {
      "cell_type": "markdown",
      "source": [
        "### Люксембург (LUX)"
      ],
      "metadata": {
        "id": "MPmB93NXSkpE"
      }
    },
    {
      "cell_type": "code",
      "source": [
        "df_LUX = pd.DataFrame(record, columns = columns)\n",
        "df_LUX.to_excel('infoCDN_about_bulls_LUX.xlsx', index=False)"
      ],
      "metadata": {
        "id": "c9x1wzYssMjD"
      },
      "execution_count": null,
      "outputs": []
    },
    {
      "cell_type": "markdown",
      "source": [
        "### Испания (ESP)"
      ],
      "metadata": {
        "id": "RT916DZnSrze"
      }
    },
    {
      "cell_type": "code",
      "source": [
        "df_ESP = pd.DataFrame(record, columns = columns)\n",
        "df_ESP.to_excel('infoCDN_about_bulls_ESP.xlsx', index=False)"
      ],
      "metadata": {
        "id": "sxnIc0fVsSeH"
      },
      "execution_count": null,
      "outputs": []
    },
    {
      "cell_type": "markdown",
      "source": [
        "### Норвегия (NOR)"
      ],
      "metadata": {
        "id": "CxL82s4JTabx"
      }
    },
    {
      "cell_type": "code",
      "source": [
        "df_NOR = pd.DataFrame(record, columns = columns)\n",
        "df_NOR.to_excel('infoCDN_about_bulls_NOR.xlsx', index=False)"
      ],
      "metadata": {
        "id": "lND-xoWmsV6j"
      },
      "execution_count": null,
      "outputs": []
    },
    {
      "cell_type": "markdown",
      "source": [
        "### Украина (UKR)"
      ],
      "metadata": {
        "id": "ORohjqlxTeCJ"
      }
    },
    {
      "cell_type": "code",
      "source": [
        "df_UKR = pd.DataFrame(record, columns = columns)\n",
        "df_UKR.to_excel('infoCDN_about_bulls_UKR.xlsx', index=False)"
      ],
      "metadata": {
        "id": "-YZQ306qsaQc"
      },
      "execution_count": null,
      "outputs": []
    },
    {
      "cell_type": "markdown",
      "source": [
        "### Австралия (AUT)"
      ],
      "metadata": {
        "id": "RH1ahPe0ThhX"
      }
    },
    {
      "cell_type": "code",
      "source": [
        "df_AUT = pd.DataFrame(record, columns = columns)\n",
        "df_AUT.to_excel('infoCDN_about_bulls_AUT.xlsx', index=False)"
      ],
      "metadata": {
        "id": "tr6c4zgUse4r"
      },
      "execution_count": null,
      "outputs": []
    },
    {
      "cell_type": "markdown",
      "source": [
        "### Эстония (EST)"
      ],
      "metadata": {
        "id": "kvCOKw20Tw0b"
      }
    },
    {
      "cell_type": "code",
      "source": [
        "df_EST = pd.DataFrame(record, columns = columns)\n",
        "df_EST.to_excel('infoCDN_about_bulls_EST.xlsx', index=False)"
      ],
      "metadata": {
        "id": "WFKIha4bskhs"
      },
      "execution_count": null,
      "outputs": []
    },
    {
      "cell_type": "markdown",
      "source": [
        "### Литва (LTU)"
      ],
      "metadata": {
        "id": "eT0OOI_UT0ux"
      }
    },
    {
      "cell_type": "code",
      "source": [
        "df_LTU = pd.DataFrame(record, columns = columns)\n",
        "df_LTU.to_excel('infoCDN_about_bulls_LTU.xlsx', index=False)"
      ],
      "metadata": {
        "id": "ujr3NCpdsol7"
      },
      "execution_count": null,
      "outputs": []
    },
    {
      "cell_type": "markdown",
      "source": [
        "### Латвия (LVA)"
      ],
      "metadata": {
        "id": "zSlASDUMUPa1"
      }
    },
    {
      "cell_type": "code",
      "source": [
        "df_LVA = pd.DataFrame(record, columns = columns)\n",
        "df_LVA.to_excel('infoCDN_about_bulls_LVA.xlsx', index=False)"
      ],
      "metadata": {
        "id": "6O7vcztjsuJD"
      },
      "execution_count": null,
      "outputs": []
    },
    {
      "cell_type": "markdown",
      "source": [
        "# Анализ датасета\n"
      ],
      "metadata": {
        "id": "pvi-aK8Vmx7k"
      }
    },
    {
      "cell_type": "code",
      "source": [
        "data.shape"
      ],
      "metadata": {
        "colab": {
          "base_uri": "https://localhost:8080/"
        },
        "id": "QTBuBFeSp8uQ",
        "outputId": "7f542f0d-935a-461a-fbd7-ba94e41c0d77"
      },
      "execution_count": null,
      "outputs": [
        {
          "output_type": "execute_result",
          "data": {
            "text/plain": [
              "(18093, 23)"
            ]
          },
          "metadata": {},
          "execution_count": 34
        }
      ]
    },
    {
      "cell_type": "code",
      "source": [
        "data[data['PORODA'] == 'HO']['COUNTRY3'].value_counts()"
      ],
      "metadata": {
        "colab": {
          "base_uri": "https://localhost:8080/"
        },
        "id": "zusTLi76plr7",
        "outputId": "7f7d89ed-df7a-40a6-9155-c787414c31db"
      },
      "execution_count": null,
      "outputs": [
        {
          "output_type": "execute_result",
          "data": {
            "text/plain": [
              "USA    3497\n",
              "NLD    2417\n",
              "DEU    2258\n",
              "RUS    1945\n",
              "CAN    1095\n",
              "DNK     657\n",
              "FRA     200\n",
              "ITA     170\n",
              "GBR     154\n",
              "HUN      86\n",
              "SWE      57\n",
              "CZE      54\n",
              "BEL      42\n",
              "CHE      19\n",
              "FIN      19\n",
              "AUS      15\n",
              "BLR      12\n",
              "NZL      11\n",
              "IRL       9\n",
              "SVK       7\n",
              "LUX       7\n",
              "ESP       4\n",
              "NOR       4\n",
              "UKR       3\n",
              "AUT       3\n",
              "EST       3\n",
              "LTU       1\n",
              "LVA       1\n",
              "Name: COUNTRY3, dtype: int64"
            ]
          },
          "metadata": {},
          "execution_count": 46
        }
      ]
    }
  ]
}